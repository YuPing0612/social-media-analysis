{
 "cells": [
  {
   "cell_type": "markdown",
   "metadata": {},
   "source": [
    "# load dataset"
   ]
  },
  {
   "cell_type": "code",
   "execution_count": 1,
   "metadata": {},
   "outputs": [
    {
     "name": "stdout",
     "output_type": "stream",
     "text": [
      "[[  0.   5.  21. ...,   0.   0.   0.]\n",
      " [  0.   5.   0. ...,   0.   0.   0.]\n",
      " [  0.   3.  92. ...,   0.   0.   0.]\n",
      " ..., \n",
      " [  1.   4.  10. ...,   0.   0.   0.]\n",
      " [  1.   1.  15. ...,   0.   0.   1.]\n",
      " [  1.   1.  16. ...,   0.   0.   0.]]\n",
      "X ~ n_samples x n_features: (4057, 126)\n",
      "_______________________________________________________________________________\n",
      "y ~ n_samples: (4057,)\n",
      "_______________________________________________________________________________\n",
      "[ 0.  0.  0. ...,  1.  1.  1.]\n"
     ]
    }
   ],
   "source": [
    "import numpy as np\n",
    "data = np.loadtxt('dataset_NVD.csv', delimiter=',')\n",
    "print(data)\n",
    "\n",
    "X = data[:, 1:]\n",
    "y = data[:, 0]\n",
    "\n",
    "print('X ~ n_samples x n_features:', X.shape)\n",
    "print(79 * '_')\n",
    "print('y ~ n_samples:', y.shape)\n",
    "print(79 * '_')\n",
    "print(y)\n"
   ]
  },
  {
   "cell_type": "markdown",
   "metadata": {},
   "source": [
    "# Data for standardization"
   ]
  },
  {
   "cell_type": "code",
   "execution_count": 2,
   "metadata": {},
   "outputs": [
    {
     "name": "stderr",
     "output_type": "stream",
     "text": [
      "/anaconda/lib/python3.6/site-packages/sklearn/preprocessing/data.py:160: UserWarning: Numerical issues were encountered when centering the data and might not be solved. Dataset may contain too large values. You may need to prescale your features.\n",
      "  warnings.warn(\"Numerical issues were encountered \"\n"
     ]
    }
   ],
   "source": [
    "from sklearn.preprocessing import scale\n",
    "X = scale(X)\n"
   ]
  },
  {
   "cell_type": "markdown",
   "metadata": {},
   "source": [
    "# The data are divided into test data and training data\n",
    "http://scikit-learn.org/stable/modules/generated/sklearn.model_selection.train_test_split.html"
   ]
  },
  {
   "cell_type": "code",
   "execution_count": 4,
   "metadata": {},
   "outputs": [],
   "source": [
    "from sklearn.cross_validation import train_test_split\n",
    "\n",
    "X_train, X_test, y_train, y_test= train_test_split(X, y, test_size=0.4, random_state=0)\n"
   ]
  },
  {
   "cell_type": "code",
   "execution_count": 5,
   "metadata": {
    "scrolled": false
   },
   "outputs": [
    {
     "name": "stdout",
     "output_type": "stream",
     "text": [
      "score 0.957486136784\n",
      "train size: 2434\n",
      "test size: 1623\n",
      "SVM ______________________________\n"
     ]
    },
    {
     "data": {
      "image/png": "[encoded data removed]",
      "text/plain": [
       "<matplotlib.figure.Figure at 0x118f41e48>"
      ]
     },
     "metadata": {},
     "output_type": "display_data"
    }
   ],
   "source": [
    "from sklearn.decomposition import PCA\n",
    "from sklearn.svm import SVC\n",
    "from sklearn.metrics import confusion_matrix\n",
    "import matplotlib.pyplot as plt\n",
    "%matplotlib inline\n",
    "\n",
    "clf = SVC(kernel='rbf',gamma=0.001, C=100.0).fit(X_train, y_train)\n",
    "\n",
    "print('score', clf.score(X_test, y_test))\n",
    "print('train size:',len(X_train))\n",
    "print('test size:',len(clf.predict(X_test)))\n",
    "\n",
    "pre=clf.predict(X_test)\n",
    "\n",
    "y_pred=clf.predict(X_test)\n",
    "\n",
    "confmat_SVM = confusion_matrix(y_true=y_test, y_pred=y_pred)\n",
    "\n",
    "print('SVM','_'*30)\n",
    "fig, ax = plt.subplots(figsize=(5, 5))\n",
    "ax.matshow(confmat_SVM, cmap=plt.cm.Blues, alpha=0.3)\n",
    "for i in range(confmat_SVM.shape[0]):\n",
    "    for j in range(confmat_SVM.shape[1]):\n",
    "        ax.text(x=j, y=i,s=confmat_SVM[i, j],va='center', ha='center')\n",
    "        \n",
    "plt.xlabel('predicted label')\n",
    "plt.ylabel('true label')\n",
    "plt.show()\n"
   ]
  },
  {
   "cell_type": "code",
   "execution_count": null,
   "metadata": {
    "collapsed": true
   },
   "outputs": [],
   "source": []
  }
 ],
 "metadata": {
  "kernelspec": {
   "display_name": "Python 3",
   "language": "python",
   "name": "python3"
  },
  "language_info": {
   "codemirror_mode": {
    "name": "ipython",
    "version": 3
   },
   "file_extension": ".py",
   "mimetype": "text/x-python",
   "name": "python",
   "nbconvert_exporter": "python",
   "pygments_lexer": "ipython3",
   "version": "3.6.1"
  }
 },
 "nbformat": 4,
 "nbformat_minor": 1
}
